{
  "nbformat": 4,
  "nbformat_minor": 0,
  "metadata": {
    "colab": {
      "provenance": []
    },
    "kernelspec": {
      "name": "python3",
      "display_name": "Python 3"
    },
    "language_info": {
      "name": "python"
    }
  },
  "cells": [
    {
      "cell_type": "code",
      "execution_count": 3,
      "metadata": {
        "colab": {
          "base_uri": "https://localhost:8080/"
        },
        "id": "Sr36f1UPIS4Y",
        "outputId": "19539b4c-79f0-4ce3-e598-cf2c5ad8f9bb"
      },
      "outputs": [
        {
          "output_type": "stream",
          "name": "stdout",
          "text": [
            "Predicted class: 0 Cat, Confidence: 1.00\n"
          ]
        }
      ],
      "source": [
        "import tensorflow as tf\n",
        "import numpy as np\n",
        "from PIL import Image\n",
        "\n",
        "# Load TFLite model and allocate tensors\n",
        "interpreter = tf.lite.Interpreter(model_path=\"model_unquant.tflite\")\n",
        "interpreter.allocate_tensors()\n",
        "\n",
        "# Get input and output tensors.\n",
        "input_details = interpreter.get_input_details()\n",
        "output_details = interpreter.get_output_details()\n",
        "\n",
        "# Load labels\n",
        "with open(\"labels.txt\", \"r\") as f:\n",
        "    labels = f.read().splitlines()\n",
        "\n",
        "# Prepare image\n",
        "def load_and_prep_image(image_path):\n",
        "    img = Image.open(image_path).resize((224, 224))\n",
        "    img_array = np.array(img).astype('float32') / 255.0\n",
        "    img_array = np.expand_dims(img_array, axis=0)\n",
        "    return img_array\n",
        "\n",
        "# Predict\n",
        "def predict(image_path):\n",
        "    img = load_and_prep_image(image_path)\n",
        "    interpreter.set_tensor(input_details[0]['index'], img)\n",
        "    interpreter.invoke()\n",
        "    output_data = interpreter.get_tensor(output_details[0]['index'])\n",
        "    class_idx = np.argmax(output_data)\n",
        "    confidence = output_data[0][class_idx]\n",
        "    print(f\"Predicted class: {labels[class_idx]}, Confidence: {confidence:.2f}\")\n",
        "\n",
        "# Example\n",
        "predict(\"cat_test.jpg.jpg\")"
      ]
    }
  ]
}